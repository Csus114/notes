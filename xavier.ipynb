{
 "cells": [
  {
   "cell_type": "code",
   "execution_count": 1,
   "id": "78a77b61-e67c-40d5-b47b-2c23e5141a89",
   "metadata": {},
   "outputs": [],
   "source": [
    "#对比几种初始化方法\n",
    "import numpy as np\n",
    "import matplotlib.pyplot as plt\n",
    "\n",
    "#初始化为0\n",
    "def initialize_parameters_zeros(layers_dims):\n",
    "\t\"\"\"\n",
    "\tArguments:\n",
    "\tlayer_dims -- python array (list) containing the size of each layer.\n",
    "\tReturns:\n",
    "\tparameters -- python dictionary containing your parameters \"W1\", \"b1\", ..., \"WL\", \"bL\":\n",
    "\t\t\t\t\tW1 -- weight matrix of shape (layers_dims[1], layers_dims[0])\n",
    "\t\t\t\t\tb1 -- bias vector of shape (layers_dims[1], 1)\n",
    "\t\t\t\t\t...\n",
    "\t\t\t\t\tWL -- weight matrix of shape (layers_dims[L], layers_dims[L-1])\n",
    "\t\t\t\t\tbL -- bias vector of shape (layers_dims[L], 1)\n",
    "\t\"\"\"\n",
    "\tparameters = {}\n",
    "\tL = len(layers_dims)  # number of layers in the network\n",
    "\n",
    "\tfor l in range(1, L):\n",
    "\t\tparameters['W' + str(l)] = np.zeros((layers_dims[l], layers_dims[l - 1]))\n",
    "\t\tparameters['b' + str(l)] = np.zeros((layers_dims[l], 1))\n",
    "\treturn parameters"
   ]
  },
  {
   "cell_type": "code",
   "execution_count": 7,
   "id": "b0f17cfe-d39e-44e9-a792-71adab439a46",
   "metadata": {},
   "outputs": [
    {
     "data": {
      "text/plain": [
       "{'W1': array([[0., 0., 0., 0., 0.],\n",
       "        [0., 0., 0., 0., 0.],\n",
       "        [0., 0., 0., 0., 0.],\n",
       "        [0., 0., 0., 0., 0.],\n",
       "        [0., 0., 0., 0., 0.]]),\n",
       " 'b1': array([[0.],\n",
       "        [0.],\n",
       "        [0.],\n",
       "        [0.],\n",
       "        [0.]]),\n",
       " 'W2': array([[0., 0., 0., 0., 0.],\n",
       "        [0., 0., 0., 0., 0.],\n",
       "        [0., 0., 0., 0., 0.],\n",
       "        [0., 0., 0., 0., 0.],\n",
       "        [0., 0., 0., 0., 0.]]),\n",
       " 'b2': array([[0.],\n",
       "        [0.],\n",
       "        [0.],\n",
       "        [0.],\n",
       "        [0.]]),\n",
       " 'W3': array([[0., 0., 0., 0., 0.],\n",
       "        [0., 0., 0., 0., 0.],\n",
       "        [0., 0., 0., 0., 0.],\n",
       "        [0., 0., 0., 0., 0.],\n",
       "        [0., 0., 0., 0., 0.]]),\n",
       " 'b3': array([[0.],\n",
       "        [0.],\n",
       "        [0.],\n",
       "        [0.],\n",
       "        [0.]]),\n",
       " 'W4': array([[0., 0., 0., 0., 0.],\n",
       "        [0., 0., 0., 0., 0.],\n",
       "        [0., 0., 0., 0., 0.],\n",
       "        [0., 0., 0., 0., 0.],\n",
       "        [0., 0., 0., 0., 0.]]),\n",
       " 'b4': array([[0.],\n",
       "        [0.],\n",
       "        [0.],\n",
       "        [0.],\n",
       "        [0.]])}"
      ]
     },
     "execution_count": 7,
     "metadata": {},
     "output_type": "execute_result"
    }
   ],
   "source": [
    "initialize_parameters_zeros([5,5,5,5,5])"
   ]
  },
  {
   "cell_type": "code",
   "execution_count": 23,
   "id": "5d380e5c-6bec-4fec-8eb8-8a703b980639",
   "metadata": {},
   "outputs": [],
   "source": [
    "def initialize_parameters_random(layers_dims):\n",
    "\t\"\"\"\n",
    "\tArguments:\n",
    "\tlayer_dims -- python array (list) containing the size of each layer.\n",
    "\n",
    "\tReturns:\n",
    "\tparameters -- python dictionary containing your parameters \"W1\", \"b1\", ..., \"WL\", \"bL\":\n",
    "\t\t\t\t\tW1 -- weight matrix of shape (layers_dims[1], layers_dims[0])\n",
    "\t\t\t\t\tb1 -- bias vector of shape (layers_dims[1], 1)\n",
    "\t\t\t\t\t...\n",
    "\t\t\t\t\tWL -- weight matrix of shape (layers_dims[L], layers_dims[L-1])\n",
    "\t\t\t\t\tbL -- bias vector of shape (layers_dims[L], 1)\n",
    "\t\"\"\"\n",
    "\tnp.random.seed(3)  # This seed makes sure your \"random\" numbers will be the as ours\n",
    "\tparameters = {}\n",
    "\tL = len(layers_dims)  # integer representing the number of layers\n",
    "\tfor l in range(1, L):\n",
    "\t\tparameters['W' + str(l)] = np.random.randn(layers_dims[l], layers_dims[l - 1])*0.01\n",
    "\t\tparameters['b' + str(l)] = np.zeros((layers_dims[l], 1))\n",
    "\treturn parameters\n"
   ]
  },
  {
   "cell_type": "code",
   "execution_count": 25,
   "id": "93122e6f-a0e7-43db-bb4d-2fea19126054",
   "metadata": {},
   "outputs": [
    {
     "data": {
      "text/plain": [
       "{'W1': array([[ 0.01788628,  0.0043651 ,  0.00096497, -0.01863493, -0.00277388],\n",
       "        [-0.00354759, -0.00082741, -0.00627001, -0.00043818, -0.00477218],\n",
       "        [-0.01313865,  0.00884622,  0.00881318,  0.01709573,  0.00050034],\n",
       "        [-0.00404677, -0.0054536 , -0.01546477,  0.00982367, -0.01101068],\n",
       "        [-0.01185047, -0.0020565 ,  0.01486148,  0.00236716, -0.01023785]]),\n",
       " 'b1': array([[0.],\n",
       "        [0.],\n",
       "        [0.],\n",
       "        [0.],\n",
       "        [0.]]),\n",
       " 'W2': array([[-0.00712993,  0.00625245, -0.00160513, -0.00768836, -0.00230031],\n",
       "        [ 0.00745056,  0.01976111, -0.01244123, -0.00626417, -0.00803766],\n",
       "        [-0.02419083, -0.00923792, -0.01023876,  0.01123978, -0.00131914],\n",
       "        [-0.01623285,  0.00646675, -0.00356271, -0.01743141, -0.0059665 ],\n",
       "        [-0.00588594, -0.00873882,  0.00029714, -0.02248258, -0.00267762]]),\n",
       " 'b2': array([[0.],\n",
       "        [0.],\n",
       "        [0.],\n",
       "        [0.],\n",
       "        [0.]]),\n",
       " 'W3': array([[ 0.01013183,  0.00852798,  0.01108187,  0.01119391,  0.01487543],\n",
       "        [-0.01118301,  0.00845833, -0.0186089 , -0.00602885, -0.01914472],\n",
       "        [ 0.01048148,  0.01333738, -0.00197415,  0.01774645, -0.00674728],\n",
       "        [ 0.00150617,  0.00152946, -0.01064195,  0.00437947,  0.01938978],\n",
       "        [-0.01024931,  0.00899338, -0.00154507,  0.01769627,  0.00483788]]),\n",
       " 'b3': array([[0.],\n",
       "        [0.],\n",
       "        [0.],\n",
       "        [0.],\n",
       "        [0.]]),\n",
       " 'W4': array([[ 0.00676216,  0.00643163,  0.00249087, -0.01395764,  0.01391663],\n",
       "        [-0.01370669,  0.00238563,  0.00614077, -0.00837912,  0.00145063],\n",
       "        [ 0.01167882, -0.00024104, -0.00888657, -0.02915738, -0.00971841],\n",
       "        [-0.00591079, -0.00516417, -0.00959996,  0.00377295, -0.00574708],\n",
       "        [-0.00109454,  0.00679072, -0.00855437, -0.00300206,  0.02158149]]),\n",
       " 'b4': array([[0.],\n",
       "        [0.],\n",
       "        [0.],\n",
       "        [0.],\n",
       "        [0.]])}"
      ]
     },
     "execution_count": 25,
     "metadata": {},
     "output_type": "execute_result"
    }
   ],
   "source": [
    "initialize_parameters_random([5,5,5,5,5])"
   ]
  },
  {
   "cell_type": "code",
   "execution_count": 29,
   "id": "5f0006b6-495e-4620-ac0b-dd77ba3b92e0",
   "metadata": {},
   "outputs": [],
   "source": [
    "#xavier initialization\n",
    "def initialize_parameters_xavier(layers_dims):\n",
    "\t\"\"\"\n",
    "\tArguments:\n",
    "\tlayer_dims -- python array (list) containing the size of each layer.\n",
    "\n",
    "\tReturns:\n",
    "\tparameters -- python dictionary containing your parameters \"W1\", \"b1\", ..., \"WL\", \"bL\":\n",
    "\t\t\t\t\tW1 -- weight matrix of shape (layers_dims[1], layers_dims[0])\n",
    "\t\t\t\t\tb1 -- bias vector of shape (layers_dims[1], 1)\n",
    "\t\t\t\t\t...\n",
    "\t\t\t\t\tWL -- weight matrix of shape (layers_dims[L], layers_dims[L-1])\n",
    "\t\t\t\t\tbL -- bias vector of shape (layers_dims[L], 1)\n",
    "\t\"\"\"\n",
    "\tnp.random.seed(3)\n",
    "\tparameters = {}\n",
    "\tL = len(layers_dims)  # integer representing the number of layers\n",
    "\tfor l in range(1, L):\n",
    "\t\tparameters['W' + str(l)] = np.random.randn(layers_dims[l], layers_dims[l - 1]) * np.sqrt(1 / layers_dims[l - 1])\n",
    "\t\tparameters['b' + str(l)] = np.zeros((layers_dims[l], 1))\n",
    "\treturn parameters"
   ]
  },
  {
   "cell_type": "code",
   "execution_count": 31,
   "id": "27c5a27f-e044-43f4-a2c5-6fe4092fded3",
   "metadata": {},
   "outputs": [
    {
     "data": {
      "text/plain": [
       "{'W1': array([[ 0.79989897,  0.19521314,  0.04315498, -0.83337927, -0.12405178],\n",
       "        [-0.15865304, -0.03700312, -0.28040323, -0.01959608, -0.21341839],\n",
       "        [-0.58757818,  0.39561516,  0.39413741,  0.76454432,  0.02237573],\n",
       "        [-0.18097724, -0.24389238, -0.69160568,  0.43932807, -0.49241241],\n",
       "        [-0.52996892, -0.09196943,  0.66462575,  0.10586273, -0.45785063]]),\n",
       " 'b1': array([[0.],\n",
       "        [0.],\n",
       "        [0.],\n",
       "        [0.],\n",
       "        [0.]]),\n",
       " 'W2': array([[-0.31886025,  0.27961805, -0.07178376, -0.34383407, -0.10287287],\n",
       "        [ 0.33319929,  0.88374361, -0.55638887, -0.28014216, -0.35945513],\n",
       "        [-1.08184688, -0.41313235, -0.45789116,  0.50265822, -0.05899384],\n",
       "        [-0.72595532,  0.28920205, -0.15932913, -0.77955637, -0.26682983],\n",
       "        [-0.26322741, -0.39081204,  0.01328842, -1.00545144, -0.11974675]]),\n",
       " 'b2': array([[0.],\n",
       "        [0.],\n",
       "        [0.],\n",
       "        [0.],\n",
       "        [0.]]),\n",
       " 'W3': array([[ 0.45310941,  0.38138279,  0.49559652,  0.50060672,  0.66524951],\n",
       "        [-0.50011927,  0.3782682 , -0.8322151 , -0.26961842, -0.85617793],\n",
       "        [ 0.46874582,  0.59646569, -0.08828653,  0.79364539, -0.30174732],\n",
       "        [ 0.06735791,  0.0683994 , -0.47592259,  0.19585568,  0.86713753],\n",
       "        [-0.45836302,  0.40219638, -0.06909756,  0.79140139,  0.21635673]]),\n",
       " 'b3': array([[0.],\n",
       "        [0.],\n",
       "        [0.],\n",
       "        [0.],\n",
       "        [0.]]),\n",
       " 'W4': array([[ 0.30241317,  0.28763136,  0.11139496, -0.62420441,  0.62237057],\n",
       "        [-0.61298182,  0.1066887 ,  0.27462362, -0.37472576,  0.06487424],\n",
       "        [ 0.52229284, -0.01077985, -0.39741968, -1.30395756, -0.43462029],\n",
       "        [-0.26433845, -0.23094887, -0.42932334,  0.16873156, -0.25701742],\n",
       "        [-0.04894947,  0.30369005, -0.38256313, -0.13425624,  0.96515373]]),\n",
       " 'b4': array([[0.],\n",
       "        [0.],\n",
       "        [0.],\n",
       "        [0.],\n",
       "        [0.]])}"
      ]
     },
     "execution_count": 31,
     "metadata": {},
     "output_type": "execute_result"
    }
   ],
   "source": [
    "initialize_parameters_xavier([5,5,5,5,5])"
   ]
  },
  {
   "cell_type": "code",
   "execution_count": null,
   "id": "73e35ae7-e4ea-49e8-9354-2d6720f7733e",
   "metadata": {},
   "outputs": [],
   "source": []
  }
 ],
 "metadata": {
  "kernelspec": {
   "display_name": "Python 3 (ipykernel)",
   "language": "python",
   "name": "python3"
  },
  "language_info": {
   "codemirror_mode": {
    "name": "ipython",
    "version": 3
   },
   "file_extension": ".py",
   "mimetype": "text/x-python",
   "name": "python",
   "nbconvert_exporter": "python",
   "pygments_lexer": "ipython3",
   "version": "3.12.7"
  }
 },
 "nbformat": 4,
 "nbformat_minor": 5
}
