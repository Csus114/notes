{
 "cells": [
  {
   "cell_type": "code",
   "execution_count": 14,
   "id": "d6352604-73e8-453d-a5aa-981b255a9bf0",
   "metadata": {},
   "outputs": [
    {
     "name": "stdout",
     "output_type": "stream",
     "text": [
      "黎曼和的计算结果：0.03333333333333341\n",
      "黎曼和的误差：-8.326672684688674e-17\n"
     ]
    }
   ],
   "source": [
    "import numpy as np\n",
    "import matplotlib.pyplot as plt\n",
    "from scipy.special import logsumexp\n",
    "# Beta 函数\n",
    "def Beta(a, b, x):\n",
    "    value = (x**(a-1)) * ((1-x)**(b-1))\n",
    "    return value\n",
    "\n",
    "# 计算黎曼和\n",
    "def reimann_sum(f, a, b, N=10000):\n",
    "    total_sum = 0\n",
    "    for i in range(1, N+1):\n",
    "        # 调用 Beta 函数时传入 a, b 和 x\n",
    "        total_sum += Beta(3, 3, a + (b - a) / N * i)\n",
    "    return (b - a) / N * total_sum\n",
    "\n",
    "# 计算黎曼和\n",
    "riemann_result = reimann_sum(Beta, 0, 1, N=10000)\n",
    "error = 0.033333333333333326 - riemann_result\n",
    "print(f\"黎曼和的计算结果：{riemann_result}\")\n",
    "print(f\"黎曼和的误差：{error}\")\n"
   ]
  },
  {
   "cell_type": "code",
   "execution_count": 28,
   "id": "c4cff110-0348-41c8-b7cc-145180a27472",
   "metadata": {},
   "outputs": [],
   "source": [
    "class Pdf:\n",
    "    def __call__(self,x):\n",
    "        pass\n",
    "    def sample(self, n):\n",
    "        pass\n",
    "\n",
    "class Beta(Pdf):\n",
    "    def __init__(self, a=3, b=3):\n",
    "        self.a = a\n",
    "        self.b = b\n",
    "    def __call__(self, x):\n",
    "        return 2*np.log(x) + 2*np.log(1-x)\n",
    "\n",
    "class Uniform(Pdf):\n",
    "    def __init__(self, low, high):\n",
    "        self.low = low\n",
    "        self.high = high\n",
    "    def __call__(self, x):\n",
    "        return np.repeat(-np.log(self.high - self.low), len(x))\n",
    "    def sample(self, n):\n",
    "        return np.random.uniform(self.low, self.high, n)"
   ]
  },
  {
   "cell_type": "code",
   "execution_count": 30,
   "id": "93ee447b-183f-4cc2-91af-5824bf910609",
   "metadata": {},
   "outputs": [],
   "source": [
    "class ImportanceSampler:\n",
    "    def __init__(self, p_dist, q_dist):\n",
    "        self.p_dist = p_dist\n",
    "        self.q_dist = q_dist\n",
    "    def sample(self, n):\n",
    "        samples = self.q_dist.sample(n)\n",
    "        weights = self.calc_weights(samples)\n",
    "        norm_weights = weights - logsumexp(weights)\n",
    "        return samples, norm_weights\n",
    "    def calc_weights(self, samples):\n",
    "        return self.p_dist(samples) - self.q_dist(samples)"
   ]
  },
  {
   "cell_type": "code",
   "execution_count": 32,
   "id": "a2902698-c5d8-4992-a4d1-1c83813cde70",
   "metadata": {},
   "outputs": [],
   "source": [
    "N = 200000\n",
    "target_p = Beta()\n",
    "imp_q = Uniform(0, 1)\n",
    "sampler = ImportanceSampler(target_p, imp_q)\n",
    "biased_samples, logws = sampler.sample(N)"
   ]
  },
  {
   "cell_type": "code",
   "execution_count": 36,
   "id": "90ecad56-b467-40f1-83bc-15310397bc1b",
   "metadata": {},
   "outputs": [],
   "source": [
    "samples = np.random.choice(biased_samples, N, p=np.exp(logws))"
   ]
  },
  {
   "cell_type": "code",
   "execution_count": 45,
   "id": "5ece13af-3c4d-4ba3-889b-aa56ec3b490e",
   "metadata": {},
   "outputs": [
    {
     "data": {
      "image/png": "[encoded data removed]",
      "text/plain": [
       "<Figure size 640x480 with 1 Axes>"
      ]
     },
     "metadata": {},
     "output_type": "display_data"
    }
   ],
   "source": [
    "_ = plt.hist(samples, bins=100)"
   ]
  },
  {
   "cell_type": "code",
   "execution_count": null,
   "id": "4d1d70c1-b3ee-4091-8218-c6bcefd6d78a",
   "metadata": {},
   "outputs": [],
   "source": []
  },
  {
   "cell_type": "code",
   "execution_count": null,
   "id": "8ade9a59-4ae3-4070-a37a-c8160562e5bc",
   "metadata": {},
   "outputs": [],
   "source": []
  }
 ],
 "metadata": {
  "kernelspec": {
   "display_name": "Python 3 (ipykernel)",
   "language": "python",
   "name": "python3"
  },
  "language_info": {
   "codemirror_mode": {
    "name": "ipython",
    "version": 3
   },
   "file_extension": ".py",
   "mimetype": "text/x-python",
   "name": "python",
   "nbconvert_exporter": "python",
   "pygments_lexer": "ipython3",
   "version": "3.12.7"
  }
 },
 "nbformat": 4,
 "nbformat_minor": 5
}
